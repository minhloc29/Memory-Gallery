{
 "cells": [
  {
   "cell_type": "code",
   "execution_count": 1,
   "metadata": {},
   "outputs": [
    {
     "name": "stdout",
     "output_type": "stream",
     "text": [
      "Renamed 'z6302235759157_d1fab5d2f8d73fdb699c1893ea98dacc.jpg' to 'image_1.jpg'\n",
      "Renamed 'z6302235762413_72040b11b3546399a0956aaf89e1cce5.jpg' to 'image_2.jpg'\n",
      "Renamed 'z6302235750091_9f2132161575d17339ab1844cd9a34f6.jpg' to 'image_3.jpg'\n",
      "Renamed 'z6302300088171_10262dbdddaaba025b6e41da9c723d26.jpg' to 'image_4.jpg'\n",
      "Renamed 'z6302235769201_ab2da6a57d4385d424a206f3424cf1a3.jpg' to 'image_5.jpg'\n",
      "Renamed 'z6302235793264_aab98b493a30a19c5ac3d8276ac3e38a.jpg' to 'image_6.jpg'\n",
      "Renamed 'z6302235771532_e62c83fe395e35f5085acc6cee66495d.jpg' to 'image_7.jpg'\n",
      "Renamed 'z6302235777091_eb8885be50fc033e7d76e5c1b8766574.jpg' to 'image_8.jpg'\n",
      "Renamed 'z6302235784818_da620c7a7def6bd13b62c05fdf24222e.jpg' to 'image_9.jpg'\n",
      "Renamed 'z6302235747906_be5cd194054a4080ccf5c92cdbaf4f27.jpg' to 'image_10.jpg'\n"
     ]
    }
   ],
   "source": [
    "import os\n",
    "folder = 'image'\n",
    "for i, filename in enumerate(os.listdir(folder), start = 1):\n",
    "    old_path = os.path.join(folder, filename)\n",
    "    new_name = f\"image_{i}.jpg\"\n",
    "    new_path = os.path.join(folder, new_name)\n",
    "    os.rename(old_path, new_path)\n",
    "    print(f\"Renamed '{filename}' to '{new_name}'\")"
   ]
  },
  {
   "cell_type": "code",
   "execution_count": null,
   "metadata": {},
   "outputs": [],
   "source": []
  }
 ],
 "metadata": {
  "kernelspec": {
   "display_name": "legal_doc",
   "language": "python",
   "name": "python3"
  },
  "language_info": {
   "codemirror_mode": {
    "name": "ipython",
    "version": 3
   },
   "file_extension": ".py",
   "mimetype": "text/x-python",
   "name": "python",
   "nbconvert_exporter": "python",
   "pygments_lexer": "ipython3",
   "version": "3.9.18"
  }
 },
 "nbformat": 4,
 "nbformat_minor": 2
}
